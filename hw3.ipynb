{
 "cells": [
  {
   "cell_type": "markdown",
   "metadata": {},
   "source": [
    "NOTE TO GRADER: It is my understanding tht a pdf of my Jupyter Notebook is sufficient for submission. Please let me know if you would like, and I am happy to send you my code. Have a great day! - Justin A"
   ]
  },
  {
   "cell_type": "code",
   "execution_count": 2,
   "metadata": {},
   "outputs": [],
   "source": [
    "import json\n",
    "import os\n",
    "\n",
    "# Get the current working directory\n",
    "current_directory = os.getcwd()\n",
    "dataset_filename = \"Sarcasm_Headlines_Dataset_v2.json\"\n",
    "dataset_file_path = os.path.join(current_directory, dataset_filename)\n",
    "\n",
    "data = []\n",
    "with open(dataset_file_path, 'r') as f:\n",
    "    # load in JSON object line by line, since it is not formatted properly for all-at-once upload\n",
    "    for line in f:\n",
    "        # Load JSON object from line\n",
    "        json_object = json.loads(line)\n",
    "        # Append JSON object to data list\n",
    "        data.append(json_object)"
   ]
  },
  {
   "cell_type": "code",
   "execution_count": 3,
   "metadata": {},
   "outputs": [
    {
     "name": "stdout",
     "output_type": "stream",
     "text": [
      "Several values of X_train:\n",
      "getting transit back on track in la county\n",
      "the enemy of my enemy: islamic state and the internationalization of the syrian and iraqi civil wars\n",
      "screwball jim nabors goofs up again by marrying man\n",
      "study finds majority of urban households located in roller rink deserts\n",
      "florida shooter's former friend says she reported him to school 'multiple' times\n",
      "jetblue could soon let you scan your face to board planes\n",
      "¡que vivan los amos de casa!\n",
      "clive cussler realizes latest novel not thrilling 3 hours after sending it to printer\n",
      "jen aniston refuses to 'inject sh-t' into her face\n",
      "former high-school bully pulls you over for speeding\n",
      "\n",
      "Several values of Y_train:\n",
      "[0, 0, 1, 1, 0, 0, 0, 1, 0, 1]\n"
     ]
    }
   ],
   "source": [
    "import sklearn\n",
    "from sklearn.model_selection import train_test_split\n",
    "\n",
    "# Extract 'headline' and 'is_sarcastic' from each dictionary in the data list\n",
    "headlines = [entry['headline'] for entry in data]\n",
    "is_sarcastic = [entry['is_sarcastic'] for entry in data]\n",
    "\n",
    "# Split data into train and test sets\n",
    "X_train, X_test, Y_train, Y_test = train_test_split(headlines, is_sarcastic, test_size=0.2, random_state=None)\n",
    "\n",
    "print(\"Several values of X_train:\")\n",
    "for headline in X_train[:10]:\n",
    "    print(headline)\n",
    "\n",
    "print(\"\\nSeveral values of Y_train:\")\n",
    "print(Y_train[:10])"
   ]
  },
  {
   "cell_type": "code",
   "execution_count": 4,
   "metadata": {},
   "outputs": [
    {
     "name": "stdout",
     "output_type": "stream",
     "text": [
      "sarcastic_count:13634\n",
      "not_sarcastic_count:14985\n"
     ]
    },
    {
     "data": {
      "image/png": "[encoded data removed]",
      "text/plain": [
       "<Figure size 640x480 with 1 Axes>"
      ]
     },
     "metadata": {},
     "output_type": "display_data"
    }
   ],
   "source": [
    "import matplotlib.pyplot as plt\n",
    "\n",
    "# count occurrences of each class (0: not sarcastic, 1: srcastic)\n",
    "sarcastic_count = sum(Y_train) + sum(Y_test)\n",
    "not_sarcastic_count = len(Y_train) + len(Y_test) - sarcastic_count\n",
    "\n",
    "print(f\"sarcastic_count:{sarcastic_count}\")\n",
    "print(f\"not_sarcastic_count:{not_sarcastic_count}\")\n",
    "\n",
    "# graph showing distribution of target classes\n",
    "plt.bar(['Not Sarcastic', 'Sarcastic'],[not_sarcastic_count, sarcastic_count])\n",
    "plt.title('Class Distribution:')\n",
    "plt.xlabel('Class')\n",
    "plt.ylabel('Number of Headlines')\n",
    "plt.show()"
   ]
  },
  {
   "cell_type": "markdown",
   "metadata": {},
   "source": [
    "DESCRIPTION OF DATASET:\n",
    "\n",
    "This dataset contains over 28,000 headlines from the humor satire news site The Onion and the leftwing online publication HuffPost. Onion headlines are characterized by exagerration, humor, goofy seriousness, and treating regular, silly daily life events as headline-worthy events. HuffPost headlines concentrate on issues of interest to leftwing voters, such as rightwing scandals, the environment, LGBTQ social issues, racial justice, and women's rights.\n",
    "- data: https://www.kaggle.com/datasets/rmisra/news-headlines-dataset-for-sarcasm-detection?resource=download\n",
    "- The Onion: https://www.theonion.com/latest\n",
    "- HuffPost: https://www.huffpost.com/\n",
    "\n",
    "Typical examples of serious, non-sarcastic headlines:\n",
    "- egyptian death sentence for soccer fans puts president's iron grip to the test\n",
    "- texas attorney general ken paxton indicted\n",
    "- congresswoman fights for gun control because she almost lost her life to gun violence\n",
    "\n",
    "Typical examples of sarcastic/funny/satire news headlines:\n",
    "- disgruntled liberals publishing at furious pace\n",
    "- period of time in which parents proud of how much child can eat quickly dwindling\n",
    "- alcohol only thing making operating heavy machinery bearable\n",
    "\n",
    "WHAT THE MODEL SHOULD BE ABLE TO PREDICT:\n",
    "- The model should be able to predict whether the headline should get the label \"not sarcastic\" vs \"is sarcastic\" (while \"not satire\" vs \"is satire\" would probably be a better descriptor, the author decided to stick with the original dataset's labels for readability)"
   ]
  },
  {
   "cell_type": "code",
   "execution_count": 5,
   "metadata": {},
   "outputs": [],
   "source": [
    "from sklearn.feature_extraction.text import CountVectorizer\n",
    "\n",
    "count_vectorizer = CountVectorizer()\n",
    "\n",
    "# Fit the vectorizer to the data and transform X_train and X_test\n",
    "X_train_counts = count_vectorizer.fit_transform(X_train)\n",
    "X_test_counts = count_vectorizer.transform(X_test)"
   ]
  },
  {
   "cell_type": "code",
   "execution_count": 6,
   "metadata": {},
   "outputs": [],
   "source": [
    "from sklearn.feature_extraction.text import TfidfVectorizer\n",
    "\n",
    "tfidf_vectorizer = TfidfVectorizer()\n",
    "\n",
    "# Fit the vectorizer to the data and transform X_train and X_test\n",
    "X_train_tfidf = tfidf_vectorizer.fit_transform(X_train)\n",
    "X_test_tfidf = tfidf_vectorizer.transform(X_test)"
   ]
  },
  {
   "cell_type": "code",
   "execution_count": 21,
   "metadata": {},
   "outputs": [
    {
     "name": "stdout",
     "output_type": "stream",
     "text": [
      "NAIVE BAYES ACCURACY, COUNT VECTORS: 0.8485324947589099\n",
      "NAIVE BAYES ACCURACY, TF-IDF: 0.8359538784067087\n"
     ]
    }
   ],
   "source": [
    "from sklearn.naive_bayes import MultinomialNB\n",
    "\n",
    "nb_model = MultinomialNB()\n",
    "\n",
    "# Train and evalute the model with COUNT VECTOR\n",
    "nb_model.fit(X_train_counts, Y_train)\n",
    "nb_accuracy = nb_model.score(X_test_counts, Y_test)\n",
    "print(\"NAIVE BAYES ACCURACY, COUNT VECTORS:\", nb_accuracy)\n",
    "\n",
    "# Train and evaluate the model with TF-IDF\n",
    "nb_model.fit(X_train_tfidf, Y_train)\n",
    "nb_accuracy = nb_model.score(X_test_tfidf, Y_test)\n",
    "print(\"NAIVE BAYES ACCURACY, TF-IDF:\", nb_accuracy)"
   ]
  },
  {
   "cell_type": "code",
   "execution_count": 23,
   "metadata": {},
   "outputs": [
    {
     "name": "stdout",
     "output_type": "stream",
     "text": [
      "LOGISTIC REGRESSION ACCURACY, COUNT VECTORS: 0.8457372466806429\n",
      "LOGISTIC REGRESSION ACCURACY, TF-IDF: 0.8441649196366178\n"
     ]
    }
   ],
   "source": [
    "from sklearn.linear_model import LogisticRegression\n",
    "\n",
    "lr_model = LogisticRegression(max_iter=1000)\n",
    "\n",
    "# Train and evaluate the model with COUNT VECTOR\n",
    "lr_model.fit(X_train_counts, Y_train)\n",
    "lr_accuracy = lr_model.score(X_test_counts, Y_test)\n",
    "print(\"LOGISTIC REGRESSION ACCURACY, COUNT VECTORS:\", lr_accuracy)\n",
    "\n",
    "# Train and evaluate the model with TF-IDF\n",
    "lr_model.fit(X_train_tfidf, Y_train)\n",
    "lr_accuracy = lr_model.score(X_test_tfidf, Y_test)\n",
    "print(\"LOGISTIC REGRESSION ACCURACY, TF-IDF:\", lr_accuracy)"
   ]
  },
  {
   "cell_type": "code",
   "execution_count": 8,
   "metadata": {},
   "outputs": [
    {
     "name": "stderr",
     "output_type": "stream",
     "text": [
      "e:\\Python\\Python311\\Lib\\site-packages\\sklearn\\neural_network\\_multilayer_perceptron.py:691: ConvergenceWarning: Stochastic Optimizer: Maximum iterations (5) reached and the optimization hasn't converged yet.\n",
      "  warnings.warn(\n"
     ]
    },
    {
     "name": "stdout",
     "output_type": "stream",
     "text": [
      "NEURAL NETWORK ACCURACY, COUNT VECTORS: 0.8471348707197763\n",
      "NEURAL NETWORK ACCURACY, TF-IDF: 0.8539482879105521\n"
     ]
    },
    {
     "name": "stderr",
     "output_type": "stream",
     "text": [
      "e:\\Python\\Python311\\Lib\\site-packages\\sklearn\\neural_network\\_multilayer_perceptron.py:691: ConvergenceWarning: Stochastic Optimizer: Maximum iterations (5) reached and the optimization hasn't converged yet.\n",
      "  warnings.warn(\n"
     ]
    }
   ],
   "source": [
    "from sklearn.neural_network import MLPClassifier\n",
    "\n",
    "nn_model = MLPClassifier(hidden_layer_sizes=(25,), max_iter=5)\n",
    "\n",
    "# Train and evaluate the model with COUNT VECTOR\n",
    "nn_model.fit(X_train_counts, Y_train)\n",
    "nn_accuracy = nn_model.score(X_test_counts, Y_test)\n",
    "print(\"NEURAL NETWORK ACCURACY, COUNT VECTORS:\", nn_accuracy)\n",
    "\n",
    "# Train and evaluate the model with TF-IDF\n",
    "nn_model.fit(X_train_tfidf, Y_train)\n",
    "nn_accuracy = nn_model.score(X_test_tfidf, Y_test)\n",
    "print(\"NEURAL NETWORK ACCURACY, TF-IDF:\", nn_accuracy)"
   ]
  },
  {
   "cell_type": "markdown",
   "metadata": {},
   "source": [
    "RESULTS:\n",
    "- NAIVE BAYES ACCURACY, COUNT VECTORS: 84.85%\n",
    "- NAIVE BAYES ACCURACY, TF-IDF: 83.59%\n",
    "- LOGISTIC REGRESSION ACCURACY, COUNT VECTORS: 84.57%\n",
    "- LOGISTIC REGRESSION ACCURACY, TF-IDF: 84.41%\n",
    "- NEURAL NETWORK ACCURACY, HIDDEN LAYER = 25, MAX_ITER = 5,COUNT VECTORS: 84.71%\n",
    "- NEURAL NETWORK ACCURACY, HIDDEN LAYER = 25, MAX_ITER = 5,TF-IDF: 85.39%\n",
    "- NEURAL NETWORK ACCURACY, HIDDEN LAYER = 50, MAX_ITER = 5, COUNT VECTORS: 84.43%\n",
    "- NEURAL NETWORK ACCURACY, HIDDEN LAYER = 50, MAX_ITER = 5, TF-IDF: 85.06%\n",
    "- NEURAL NETWORK ACCURACY, HIDDEN LAYER = 50, MAX_ITER = 15, COUNT VECTORS: 81.81%\n",
    "- NEURAL NETWORK ACCURACY, HIDDEN LAYER = 50, MAX_ITER = 15, TF-IDF: 81.90%"
   ]
  },
  {
   "cell_type": "markdown",
   "metadata": {},
   "source": [
    "ANALYSIS I: MAJOR TAKEAWAYS:\n",
    "- the 28,000+ data set provides a rich, robust, abundant source of high quality data\n",
    "- however, about 15% of testing data entries apparently simply cannot be classified easily with rules learned from the testing data\n",
    "- (given that this data is distinguishing *satire*, data that is un-classifiable merely with the data set makes sense. Consider trying to teach a child about satire using only satire - it can't be done. At some point, to fully train the child, you would have to include the thing that is being made fun of itself. Onion articles are not merely making fun of other news articles - they are making fun of society itself. The news headline + satire headline data set, on its own, simply doesn't provide enough data to learn how to distinguish between real news and satire every time.)\n",
    "- (This problem is exacerbated by very small amount of data in any headline - if the classification system used not just the headlines but the articles as well, it would likely be much more capable of accurately classifying test cases)\n",
    "- this combination of 1) very high quality training data and 2) numerous testing entries that simply cannot be classified based on material learned from the testing data leads to two things: 1) numerous different classification processes easily clearing a decent threshold and 2) even the best classifiers having difficulty going beyond a particular point.\n",
    "- This explains why all results are in an *extremely narrow* band: 83.6-85.4% success. That's really narrow!\n",
    "\n",
    "Why are TF-IDF and Vector scores so similar?\n",
    "- The data is headlines. There are few unimportant words as headlines are already optimized for importance. Also, the small amount of each data item in general (headlines are only a few words) likely makes each word very important, even if it would normally be a \"filler\" word. Therefore, TF-IDF - which normally wants to improve predictions by focusing on more important words - isn't able to provide much of an edge on simple count vectors.\n",
    "- Furthermore, what little information TF-IDF has is likely tricky to utilize. Naive Bayes naively assumes feature independence, an assumption which may squander what little information edge TF-IDF can provide. This would explain why Naive Bayes struggles *a little* with the extra information provided by TF-IDF data - the Naive Bayes TF-IDF prediction is the worst, at 83.6%\n",
    "- On the other hand, Neural Network Classification is capable of building an extremely sophisticated model. This explains why the Neural Network is best able to make use of the *slight* extra information provided by TF-IDF - leading to the Neural Network TF-IDF Classifier being the best at 85.4%\n",
    "\n",
    "Overfitting makes the neural network classifications with 50 hidden layers or 15 iterations lower, as low as 81.8-81.9% accurate, significantly less than the 84.7-85.4% range of the neural networks confined to 5 iterations and 25 hidden layers."
   ]
  },
  {
   "cell_type": "markdown",
   "metadata": {},
   "source": []
  },
  {
   "cell_type": "markdown",
   "metadata": {},
   "source": [
    "ANALYSIS II: DETAILED ANALYSIS:\n",
    "- NAIVE BAYES CLASSIFICATION - ANALYSIS:\n",
    "- ASSUMPTIONS AND LIMITATIONS:\n",
    "- Assumes independence between features, which may not hold true for text data where word occurrences are often correlated.\n",
    "- Relies on the Bag-of-Words representation, which ignores word order and context, potentially losing important semantic information.\n",
    "\n",
    "- STRENGTHS AND FEATURES:\n",
    "- Efficient and easy to implement, making it suitable for large datasets.\n",
    "- Works well with high-dimensional data like text, where the number of features (words) is large.\n",
    "- Performs surprisingly well even with its simplistic assumptions, especially for binary classification tasks such as this task\n",
    "\n",
    "- IMPROVEMENT STRATEGIES:\n",
    "- Incorporate feature engineering techniques to capture more nuanced relationships between words.\n",
    "- Experiment with different text preprocessing methods to optimize the representation of text data.\n",
    "- Consider more advanced variants like Bernoulli Naive Bayes or Gaussian Naive Bayes, depending on the nature of the data.\n",
    "\n",
    "LOGISTIC REGRESSION CLASSIFICATION ANALYSIS:\n",
    "- ASSUMPTIONS AND LIMITATIONS:\n",
    "- Assumes a linear relationship between the features and the log-odds of the outcome, which may not hold true for complex data.\n",
    "- Sensitive to outliers and multicollinearity among features.\n",
    "\n",
    "- STRENGTHS AND FEATURES:\n",
    "- Robust to noise and handles both linear and non-linear relationships well with appropriate feature engineering.\n",
    "- Can handle binary tasks efficiently.\n",
    "\n",
    "- IMPROVEMENT STRATEGIES:\n",
    "- Perform feature selection techniques like L1 regularization (Lasso) to identify and remove irrelevant features.\n",
    "- Experiment with polynomial features or interaction terms to capture non-linear relationships in the data.\n",
    "\n",
    "NEURAL NETWORK CLASSIFICATION ANALYSIS:\n",
    "- ASSUMPTIONS AND LIMITATIONS:\n",
    "- Assumes complex, non-linear relationships between features and outcomes, making it suitable for high-dimensional data but vulnerable to overfitting.\n",
    "- Requires a large amount of data for training to avoid overfitting and achieve generalization.\n",
    "- Sensitive to hyperparameter tuning and architecture choices, including the number of layers, neurons, and activation functions.\n",
    "\n",
    "- STRENGTHS AND FEATURES:\n",
    "- Capable of capturing intricate patterns and relationships in the data, including non-linear interactions between features.\n",
    "- Can automatically learn hierarchical representations of features, potentially extracting more meaningful information from raw text data.\n",
    "- Performs well with large datasets.\n",
    "\n",
    "- IMPROVEMENT STRATEGIES:\n",
    "- Experiment with different architectures such as deeper networks, convolutional neural networks (CNNs), or recurrent neural networks (RNNs) to capture different aspects of the data.\n",
    "- Regularize the model using techniques like dropout or batch normalization to prevent overfitting.\n",
    "- Utilize pre-trained word embeddings or language models to initialize the network weights and leverage transfer learning.\n",
    "\n",
    "COUNT VECTORS vs TF-IDF:\n",
    "- Use Count Vectors for tasks where word frequency directly correlates with importance, such as sentiment analysis.\n",
    "- Use TF-IDF for tasks where distinguishing features are likely to be less frequent but highly informative, such as topic modeling or text categorization."
   ]
  },
  {
   "cell_type": "markdown",
   "metadata": {},
   "source": []
  }
 ],
 "metadata": {
  "kernelspec": {
   "display_name": "Python 3",
   "language": "python",
   "name": "python3"
  },
  "language_info": {
   "codemirror_mode": {
    "name": "ipython",
    "version": 3
   },
   "file_extension": ".py",
   "mimetype": "text/x-python",
   "name": "python",
   "nbconvert_exporter": "python",
   "pygments_lexer": "ipython3",
   "version": "3.11.7"
  }
 },
 "nbformat": 4,
 "nbformat_minor": 2
}
